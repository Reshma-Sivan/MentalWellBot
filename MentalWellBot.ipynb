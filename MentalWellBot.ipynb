{
 "cells": [
  {
   "cell_type": "code",
   "execution_count": null,
   "id": "f942e6ee-f238-499a-9dd7-8e462cd5102f",
   "metadata": {},
   "outputs": [],
   "source": []
  },
  {
   "cell_type": "code",
   "execution_count": 1,
   "id": "146dee82-df8c-45ba-91d0-b758d06da501",
   "metadata": {},
   "outputs": [
    {
     "name": "stdout",
     "output_type": "stream",
     "text": [
      "Requirement already satisfied: pyttsx3 in c:\\users\\dell\\appdata\\local\\programs\\python\\python310\\lib\\site-packages (2.90)"
     ]
    },
    {
     "name": "stderr",
     "output_type": "stream",
     "text": [
      "WARNING: You are using pip version 21.2.3; however, version 24.0 is available.\n",
      "You should consider upgrading via the 'C:\\Users\\DELL\\AppData\\Local\\Programs\\Python\\Python310\\python.exe -m pip install --upgrade pip' command.\n"
     ]
    },
    {
     "name": "stdout",
     "output_type": "stream",
     "text": [
      "\n",
      "Requirement already satisfied: pypiwin32 in c:\\users\\dell\\appdata\\local\\programs\\python\\python310\\lib\\site-packages (from pyttsx3) (223)\n",
      "Requirement already satisfied: comtypes in c:\\users\\dell\\appdata\\local\\programs\\python\\python310\\lib\\site-packages (from pyttsx3) (1.3.0)\n",
      "Requirement already satisfied: pywin32 in c:\\users\\dell\\appdata\\local\\programs\\python\\python310\\lib\\site-packages (from pyttsx3) (306)\n",
      "Requirement already satisfied: SpeechRecognition in c:\\users\\dell\\appdata\\local\\programs\\python\\python310\\lib\\site-packages (3.10.1)\n",
      "Requirement already satisfied: typing-extensions in c:\\users\\dell\\appdata\\local\\programs\\python\\python310\\lib\\site-packages (from SpeechRecognition) (4.9.0)\n",
      "Requirement already satisfied: requests>=2.26.0 in c:\\users\\dell\\appdata\\local\\programs\\python\\python310\\lib\\site-packages (from SpeechRecognition) (2.31.0)\n",
      "Requirement already satisfied: certifi>=2017.4.17 in c:\\users\\dell\\appdata\\local\\programs\\python\\python310\\lib\\site-packages (from requests>=2.26.0->SpeechRecognition) (2023.7.22)\n",
      "Requirement already satisfied: charset-normalizer<4,>=2 in c:\\users\\dell\\appdata\\local\\programs\\python\\python310\\lib\\site-packages (from requests>=2.26.0->SpeechRecognition) (3.2.0)\n",
      "Requirement already satisfied: urllib3<3,>=1.21.1 in c:\\users\\dell\\appdata\\local\\programs\\python\\python310\\lib\\site-packages (from requests>=2.26.0->SpeechRecognition) (2.0.4)\n",
      "Requirement already satisfied: idna<4,>=2.5 in c:\\users\\dell\\appdata\\local\\programs\\python\\python310\\lib\\site-packages (from requests>=2.26.0->SpeechRecognition) (3.4)\n"
     ]
    },
    {
     "name": "stderr",
     "output_type": "stream",
     "text": [
      "WARNING: You are using pip version 21.2.3; however, version 24.0 is available.\n",
      "You should consider upgrading via the 'C:\\Users\\DELL\\AppData\\Local\\Programs\\Python\\Python310\\python.exe -m pip install --upgrade pip' command.\n"
     ]
    }
   ],
   "source": [
    "!pip install pyttsx3\n",
    "!pip install SpeechRecognition"
   ]
  },
  {
   "cell_type": "code",
   "execution_count": 2,
   "id": "8ca8af37-f205-45d2-b83f-dbaeb2a330ab",
   "metadata": {},
   "outputs": [
    {
     "name": "stdout",
     "output_type": "stream",
     "text": [
      "Requirement already satisfied: pyaudio in c:\\users\\dell\\appdata\\local\\programs\\python\\python310\\lib\\site-packages (0.2.14)\n"
     ]
    },
    {
     "name": "stderr",
     "output_type": "stream",
     "text": [
      "WARNING: You are using pip version 21.2.3; however, version 24.0 is available.\n",
      "You should consider upgrading via the 'C:\\Users\\DELL\\AppData\\Local\\Programs\\Python\\Python310\\python.exe -m pip install --upgrade pip' command.\n"
     ]
    }
   ],
   "source": [
    "!pip install pyaudio"
   ]
  },
  {
   "cell_type": "code",
   "execution_count": 3,
   "id": "513e220c-013b-4bfe-b5fa-6992845cb44b",
   "metadata": {},
   "outputs": [
    {
     "name": "stdout",
     "output_type": "stream",
     "text": [
      "Requirement already satisfied: nltk in c:\\users\\dell\\appdata\\local\\programs\\python\\python310\\lib\\site-packages (3.8.1)\n",
      "Requirement already satisfied: click in c:\\users\\dell\\appdata\\local\\programs\\python\\python310\\lib\\site-packages (from nltk) (8.1.7)\n",
      "Requirement already satisfied: tqdm in c:\\users\\dell\\appdata\\local\\programs\\python\\python310\\lib\\site-packages (from nltk) (4.66.2)\n",
      "Requirement already satisfied: regex>=2021.8.3 in c:\\users\\dell\\appdata\\local\\programs\\python\\python310\\lib\\site-packages (from nltk) (2023.12.25)\n",
      "Requirement already satisfied: joblib in c:\\users\\dell\\appdata\\local\\programs\\python\\python310\\lib\\site-packages (from nltk) (1.3.1)\n",
      "Requirement already satisfied: colorama in c:\\users\\dell\\appdata\\local\\programs\\python\\python310\\lib\\site-packages (from click->nltk) (0.4.6)\n"
     ]
    },
    {
     "name": "stderr",
     "output_type": "stream",
     "text": [
      "WARNING: You are using pip version 21.2.3; however, version 24.0 is available.\n",
      "You should consider upgrading via the 'C:\\Users\\DELL\\AppData\\Local\\Programs\\Python\\Python310\\python.exe -m pip install --upgrade pip' command.\n"
     ]
    }
   ],
   "source": [
    "!pip install nltk"
   ]
  },
  {
   "cell_type": "code",
   "execution_count": 46,
   "id": "950406a2-c5d7-406e-b2c6-a3ac4bed542d",
   "metadata": {},
   "outputs": [],
   "source": [
    "responses = []"
   ]
  },
  {
   "cell_type": "code",
   "execution_count": 47,
   "id": "cfdc6483-e36f-494a-9aee-fec5314f0c96",
   "metadata": {},
   "outputs": [
    {
     "name": "stdout",
     "output_type": "stream",
     "text": [
      "Do you get panic attacks on hearing about covid19 news?\n",
      "Speak now:\n",
      "no I don't get panic attacks\n",
      "How often have you felt nervous or anxious?\n",
      "Speak now:\n",
      "I rarely feel anxious or nervous\n",
      "Have you ever felt lonely during the covid time?\n",
      "Speak now:\n",
      "no I haven't felt lonely during those times as I was with my family\n",
      "Did you lose anyone you loved during the covid19?\n",
      "Speak now:\n",
      "no I didn't lose anyone due to it\n",
      "Have any of your personal plans been changed after the pandemic?\n",
      "Speak now:\n",
      "no none of my personal plans were changed due to the pandemic as I am a person who doesn't have much plans\n",
      "Have you felt hopeless about your future?\n",
      "Speak now:\n",
      "no I doesn't feel hopeless about my future I always think positive\n",
      "When was the last time you felt good about yourself?\n",
      "Speak now:\n",
      "I usually feel good about myself\n",
      "Are you able to enjoy the things you used to before like meeting family members or going for a walk?\n",
      "Speak now:\n",
      "yes I am able to enjoy hostings even as before it would be better to say that I enjoy these things more now\n",
      "Have you experienced mood swings?\n",
      "Speak now:\n",
      "no I usually don't experience mood swings\n",
      "Do you feel unable to cope up with daily problems?\n",
      "Speak now:\n",
      "never I always try to cope up with my daily problems considering it as a challenge\n",
      "Do you feel mentally weak when interacting with others?\n",
      "Speak now:\n",
      "no I don't feel mentally weak when interacting with others as I love to interact with people\n",
      "Have you or someone you know ever struggled with mental illness? What was that experience like for them?\n",
      "Speak now:\n",
      "I personally don't know anyone who support Mendel illness\n",
      "Have you felt frustrations during the quarantine?\n",
      "Speak now:\n",
      "no I haven't felt frustration during lockdown I happily enjoyed my holidays with family\n",
      "Have you lost interest in your field of working?\n",
      "Speak now:\n",
      "I never lost interest in my studies although the classes were online I attended them regularly and also use my free time for further studies\n",
      "What are the thoughts,feelings or behaviour that have been troubling you?\n",
      "Speak now:\n",
      "no thoughts are feelings usually troubles me\n",
      "Do you get panic attacks on hearing about covid19 news? no I don't get panic attacks\n",
      "How often have you felt nervous or anxious? I rarely feel anxious or nervous\n",
      "Have you ever felt lonely during the covid time? no I haven't felt lonely during those times as I was with my family\n",
      "Did you lose anyone you loved during the covid19? no I didn't lose anyone due to it\n",
      "Have any of your personal plans been changed after the pandemic? no none of my personal plans were changed due to the pandemic as I am a person who doesn't have much plans\n",
      "Have you felt hopeless about your future? no I doesn't feel hopeless about my future I always think positive\n",
      "When was the last time you felt good about yourself? I usually feel good about myself\n",
      "Are you able to enjoy the things you used to before like meeting family members or going for a walk? yes I am able to enjoy hostings even as before it would be better to say that I enjoy these things more now\n",
      "Have you experienced mood swings? no I usually don't experience mood swings\n",
      "Do you feel unable to cope up with daily problems? never I always try to cope up with my daily problems considering it as a challenge\n",
      "Do you feel mentally weak when interacting with others? no I don't feel mentally weak when interacting with others as I love to interact with people\n",
      "Have you or someone you know ever struggled with mental illness? What was that experience like for them? I personally don't know anyone who support Mendel illness\n",
      "Have you felt frustrations during the quarantine? no I haven't felt frustration during lockdown I happily enjoyed my holidays with family\n",
      "Have you lost interest in your field of working? I never lost interest in my studies although the classes were online I attended them regularly and also use my free time for further studies\n",
      "What are the thoughts,feelings or behaviour that have been troubling you? no thoughts are feelings usually troubles me\n"
     ]
    }
   ],
   "source": [
    "import speech_recognition as sr\n",
    "import pyttsx3\n",
    "\n",
    "#initialize speech recognition engine and text to speech engine\n",
    "r=sr.Recognizer()\n",
    "engine=pyttsx3.init()\n",
    "\n",
    "#set the properties for the text to spech engine\n",
    "voices=engine.getProperty('voices')\n",
    "engine.setProperty('voice',voices[0].id)\n",
    "engine.setProperty('rate',150)\n",
    "\n",
    "def speech_to_text():\n",
    "    recognizer = sr.Recognizer()\n",
    "    with sr.Microphone() as source:\n",
    "        print(\"Speak now:\")\n",
    "        audio = recognizer.listen(source)\n",
    "\n",
    "    try:\n",
    "        text = recognizer.recognize_google(audio)\n",
    "        return text\n",
    "    except sr.UnknownValueError:\n",
    "        print(\"Sorry, I couldn't understand what you said.\")\n",
    "        return \"\"\n",
    "    except sr.RequestError as e:\n",
    "        print(\"Could not request results from Google Speech Recognition service; {0}\".format(e))\n",
    "        return \"\"\n",
    "\n",
    "def speak(text):\n",
    "    engine.say(text)\n",
    "    engine.runAndWait()\n",
    "speak(\"Hello,I'm your personnel A I.\")\n",
    "questions = [     \"Do you get panic attacks on hearing about covid19 news?\",\n",
    "                  \"How often have you felt nervous or anxious?\",\n",
    "                  \"Have you ever felt lonely during the covid time?\",\n",
    "                  \"Did you lose anyone you loved during the covid19?\",\n",
    "                  \"Have any of your personal plans been changed after the pandemic?\",\n",
    "                  \"Have you felt hopeless about your future?\",\n",
    "                  \"When was the last time you felt good about yourself?\",\n",
    "                  \"Are you able to enjoy the things you used to before like meeting family members or going for a walk?\",\n",
    "                  \"Have you experienced mood swings?\",\n",
    "                  \"Do you feel unable to cope up with daily problems?\",\n",
    "                  \"Do you feel mentally weak when interacting with others?\",\n",
    "                  \"Have you or someone you know ever struggled with mental illness? What was that experience like for them?\",\n",
    "                  \"Have you felt frustrations during the quarantine?\",\n",
    "                  \"Have you lost interest in your field of working?\",\n",
    "                  \"What are the thoughts,feelings or behaviour that have been troubling you?\"\n",
    "]\n",
    "\n",
    "\n",
    "\n",
    "\n",
    "for question in questions:\n",
    "   print(question)\n",
    "   speak(question)\n",
    "   response = speech_to_text()\n",
    "   responses.append(response)\n",
    "   print(response)\n",
    "\n",
    "speak(\"Thank you for your responses. Here are your answers:\")\n",
    "for i in range(len(questions)):\n",
    "   print(f\"{questions[i]} {responses[i]}\")\n",
    "\n"
   ]
  },
  {
   "cell_type": "code",
   "execution_count": 48,
   "id": "7df589d8-d2f9-4c4f-934f-11ab3e30fdcf",
   "metadata": {},
   "outputs": [
    {
     "data": {
      "text/plain": [
       "[\"no I don't get panic attacks\",\n",
       " 'I rarely feel anxious or nervous',\n",
       " \"no I haven't felt lonely during those times as I was with my family\",\n",
       " \"no I didn't lose anyone due to it\",\n",
       " \"no none of my personal plans were changed due to the pandemic as I am a person who doesn't have much plans\",\n",
       " \"no I doesn't feel hopeless about my future I always think positive\",\n",
       " 'I usually feel good about myself',\n",
       " 'yes I am able to enjoy hostings even as before it would be better to say that I enjoy these things more now',\n",
       " \"no I usually don't experience mood swings\",\n",
       " 'never I always try to cope up with my daily problems considering it as a challenge',\n",
       " \"no I don't feel mentally weak when interacting with others as I love to interact with people\",\n",
       " \"I personally don't know anyone who support Mendel illness\",\n",
       " \"no I haven't felt frustration during lockdown I happily enjoyed my holidays with family\",\n",
       " 'I never lost interest in my studies although the classes were online I attended them regularly and also use my free time for further studies',\n",
       " 'no thoughts are feelings usually troubles me']"
      ]
     },
     "execution_count": 48,
     "metadata": {},
     "output_type": "execute_result"
    }
   ],
   "source": [
    "responses\n"
   ]
  },
  {
   "cell_type": "code",
   "execution_count": 49,
   "id": "59fbc954-870b-4cac-b895-c6ceaf1b77ac",
   "metadata": {},
   "outputs": [],
   "source": [
    "import nltk"
   ]
  },
  {
   "cell_type": "code",
   "execution_count": 50,
   "id": "79f8f22e-c2e8-4728-9661-e7a15d9f9d0e",
   "metadata": {},
   "outputs": [],
   "source": [
    "from nltk.corpus import stopwords"
   ]
  },
  {
   "cell_type": "code",
   "execution_count": 51,
   "id": "c9641aba-f920-4678-82b5-6ef2fcb02189",
   "metadata": {},
   "outputs": [
    {
     "name": "stderr",
     "output_type": "stream",
     "text": [
      "[nltk_data] Downloading package stopwords to\n",
      "[nltk_data]     C:\\Users\\DELL\\AppData\\Roaming\\nltk_data...\n",
      "[nltk_data]   Package stopwords is already up-to-date!\n"
     ]
    },
    {
     "data": {
      "text/plain": [
       "['i',\n",
       " 'me',\n",
       " 'my',\n",
       " 'myself',\n",
       " 'we',\n",
       " 'our',\n",
       " 'ours',\n",
       " 'ourselves',\n",
       " 'you',\n",
       " \"you're\",\n",
       " \"you've\",\n",
       " \"you'll\",\n",
       " \"you'd\",\n",
       " 'your',\n",
       " 'yours',\n",
       " 'yourself',\n",
       " 'yourselves',\n",
       " 'he',\n",
       " 'him',\n",
       " 'his',\n",
       " 'himself',\n",
       " 'she',\n",
       " \"she's\",\n",
       " 'her',\n",
       " 'hers',\n",
       " 'herself',\n",
       " 'it',\n",
       " \"it's\",\n",
       " 'its',\n",
       " 'itself',\n",
       " 'they',\n",
       " 'them',\n",
       " 'their',\n",
       " 'theirs',\n",
       " 'themselves',\n",
       " 'what',\n",
       " 'which',\n",
       " 'who',\n",
       " 'whom',\n",
       " 'this',\n",
       " 'that',\n",
       " \"that'll\",\n",
       " 'these',\n",
       " 'those',\n",
       " 'am',\n",
       " 'is',\n",
       " 'are',\n",
       " 'was',\n",
       " 'were',\n",
       " 'be',\n",
       " 'been',\n",
       " 'being',\n",
       " 'have',\n",
       " 'has',\n",
       " 'had',\n",
       " 'having',\n",
       " 'do',\n",
       " 'does',\n",
       " 'did',\n",
       " 'doing',\n",
       " 'a',\n",
       " 'an',\n",
       " 'the',\n",
       " 'and',\n",
       " 'but',\n",
       " 'if',\n",
       " 'or',\n",
       " 'because',\n",
       " 'as',\n",
       " 'until',\n",
       " 'while',\n",
       " 'of',\n",
       " 'at',\n",
       " 'by',\n",
       " 'for',\n",
       " 'with',\n",
       " 'about',\n",
       " 'against',\n",
       " 'between',\n",
       " 'into',\n",
       " 'through',\n",
       " 'during',\n",
       " 'before',\n",
       " 'after',\n",
       " 'above',\n",
       " 'below',\n",
       " 'to',\n",
       " 'from',\n",
       " 'up',\n",
       " 'down',\n",
       " 'in',\n",
       " 'out',\n",
       " 'on',\n",
       " 'off',\n",
       " 'over',\n",
       " 'under',\n",
       " 'again',\n",
       " 'further',\n",
       " 'then',\n",
       " 'once',\n",
       " 'here',\n",
       " 'there',\n",
       " 'when',\n",
       " 'where',\n",
       " 'why',\n",
       " 'how',\n",
       " 'all',\n",
       " 'any',\n",
       " 'both',\n",
       " 'each',\n",
       " 'few',\n",
       " 'more',\n",
       " 'most',\n",
       " 'other',\n",
       " 'some',\n",
       " 'such',\n",
       " 'no',\n",
       " 'nor',\n",
       " 'not',\n",
       " 'only',\n",
       " 'own',\n",
       " 'same',\n",
       " 'so',\n",
       " 'than',\n",
       " 'too',\n",
       " 'very',\n",
       " 's',\n",
       " 't',\n",
       " 'can',\n",
       " 'will',\n",
       " 'just',\n",
       " 'don',\n",
       " \"don't\",\n",
       " 'should',\n",
       " \"should've\",\n",
       " 'now',\n",
       " 'd',\n",
       " 'll',\n",
       " 'm',\n",
       " 'o',\n",
       " 're',\n",
       " 've',\n",
       " 'y',\n",
       " 'ain',\n",
       " 'aren',\n",
       " \"aren't\",\n",
       " 'couldn',\n",
       " \"couldn't\",\n",
       " 'didn',\n",
       " \"didn't\",\n",
       " 'doesn',\n",
       " \"doesn't\",\n",
       " 'hadn',\n",
       " \"hadn't\",\n",
       " 'hasn',\n",
       " \"hasn't\",\n",
       " 'haven',\n",
       " \"haven't\",\n",
       " 'isn',\n",
       " \"isn't\",\n",
       " 'ma',\n",
       " 'mightn',\n",
       " \"mightn't\",\n",
       " 'mustn',\n",
       " \"mustn't\",\n",
       " 'needn',\n",
       " \"needn't\",\n",
       " 'shan',\n",
       " \"shan't\",\n",
       " 'shouldn',\n",
       " \"shouldn't\",\n",
       " 'wasn',\n",
       " \"wasn't\",\n",
       " 'weren',\n",
       " \"weren't\",\n",
       " 'won',\n",
       " \"won't\",\n",
       " 'wouldn',\n",
       " \"wouldn't\"]"
      ]
     },
     "execution_count": 51,
     "metadata": {},
     "output_type": "execute_result"
    }
   ],
   "source": [
    "nltk.download('stopwords')\n",
    "stopwords.words('english')"
   ]
  },
  {
   "cell_type": "code",
   "execution_count": 52,
   "id": "9b02e8ad-2c3d-4860-a12c-43d0941a8b7f",
   "metadata": {},
   "outputs": [
    {
     "data": {
      "text/plain": [
       "[\"no I don't get panic attacks\",\n",
       " 'I rarely feel anxious or nervous',\n",
       " \"no I haven't felt lonely during those times as I was with my family\",\n",
       " \"no I didn't lose anyone due to it\",\n",
       " \"no none of my personal plans were changed due to the pandemic as I am a person who doesn't have much plans\",\n",
       " \"no I doesn't feel hopeless about my future I always think positive\",\n",
       " 'I usually feel good about myself',\n",
       " 'yes I am able to enjoy hostings even as before it would be better to say that I enjoy these things more now',\n",
       " \"no I usually don't experience mood swings\",\n",
       " 'never I always try to cope up with my daily problems considering it as a challenge',\n",
       " \"no I don't feel mentally weak when interacting with others as I love to interact with people\",\n",
       " \"I personally don't know anyone who support Mendel illness\",\n",
       " \"no I haven't felt frustration during lockdown I happily enjoyed my holidays with family\",\n",
       " 'I never lost interest in my studies although the classes were online I attended them regularly and also use my free time for further studies',\n",
       " 'no thoughts are feelings usually troubles me']"
      ]
     },
     "execution_count": 52,
     "metadata": {},
     "output_type": "execute_result"
    }
   ],
   "source": [
    "responses1 = []\n",
    "stop_words = stopwords.words('english')\n",
    "for words in responses:\n",
    "  if words not in stop_words:\n",
    "   responses1.append(words)\n",
    "responses1"
   ]
  },
  {
   "cell_type": "code",
   "execution_count": 53,
   "id": "5867cd83-c9fc-4589-b461-36cffeda910b",
   "metadata": {},
   "outputs": [],
   "source": [
    "from sklearn.feature_extraction.text import TfidfVectorizer"
   ]
  },
  {
   "cell_type": "code",
   "execution_count": 54,
   "id": "21b85a87-1daa-42d3-85f3-fae972301276",
   "metadata": {},
   "outputs": [],
   "source": [
    "tfidf=TfidfVectorizer(ngram_range=(1,3))"
   ]
  },
  {
   "cell_type": "code",
   "execution_count": 55,
   "id": "c2e70b9d-500d-4aee-90ec-5e3043849363",
   "metadata": {},
   "outputs": [
    {
     "data": {
      "text/plain": [
       "<15x405 sparse matrix of type '<class 'numpy.float64'>'\n",
       "\twith 459 stored elements in Compressed Sparse Row format>"
      ]
     },
     "execution_count": 55,
     "metadata": {},
     "output_type": "execute_result"
    }
   ],
   "source": [
    "x1=tfidf.fit_transform(responses1)\n",
    "x1"
   ]
  },
  {
   "cell_type": "code",
   "execution_count": 56,
   "id": "2ec1dfa1-a673-459c-abfb-25ac1859cf58",
   "metadata": {},
   "outputs": [],
   "source": [
    "import pandas as pd\n",
    "import numpy as np"
   ]
  },
  {
   "cell_type": "code",
   "execution_count": 57,
   "id": "774014f7-d532-4098-b5cf-42c5b9dffe0c",
   "metadata": {},
   "outputs": [
    {
     "data": {
      "text/html": [
       "<div>\n",
       "<style scoped>\n",
       "    .dataframe tbody tr th:only-of-type {\n",
       "        vertical-align: middle;\n",
       "    }\n",
       "\n",
       "    .dataframe tbody tr th {\n",
       "        vertical-align: top;\n",
       "    }\n",
       "\n",
       "    .dataframe thead th {\n",
       "        text-align: right;\n",
       "    }\n",
       "</style>\n",
       "<table border=\"1\" class=\"dataframe\">\n",
       "  <thead>\n",
       "    <tr style=\"text-align: right;\">\n",
       "      <th></th>\n",
       "      <th>TfIdf value</th>\n",
       "    </tr>\n",
       "  </thead>\n",
       "  <tbody>\n",
       "    <tr>\n",
       "      <th>panic attacks</th>\n",
       "      <td>0.30897</td>\n",
       "    </tr>\n",
       "    <tr>\n",
       "      <th>get panic attacks</th>\n",
       "      <td>0.30897</td>\n",
       "    </tr>\n",
       "    <tr>\n",
       "      <th>get panic</th>\n",
       "      <td>0.30897</td>\n",
       "    </tr>\n",
       "    <tr>\n",
       "      <th>get</th>\n",
       "      <td>0.30897</td>\n",
       "    </tr>\n",
       "    <tr>\n",
       "      <th>panic</th>\n",
       "      <td>0.30897</td>\n",
       "    </tr>\n",
       "    <tr>\n",
       "      <th>...</th>\n",
       "      <td>...</td>\n",
       "    </tr>\n",
       "    <tr>\n",
       "      <th>for</th>\n",
       "      <td>0.00000</td>\n",
       "    </tr>\n",
       "    <tr>\n",
       "      <th>felt lonely during</th>\n",
       "      <td>0.00000</td>\n",
       "    </tr>\n",
       "    <tr>\n",
       "      <th>felt lonely</th>\n",
       "      <td>0.00000</td>\n",
       "    </tr>\n",
       "    <tr>\n",
       "      <th>felt frustration during</th>\n",
       "      <td>0.00000</td>\n",
       "    </tr>\n",
       "    <tr>\n",
       "      <th>yes am able</th>\n",
       "      <td>0.00000</td>\n",
       "    </tr>\n",
       "  </tbody>\n",
       "</table>\n",
       "<p>405 rows × 1 columns</p>\n",
       "</div>"
      ],
      "text/plain": [
       "                         TfIdf value\n",
       "panic attacks                0.30897\n",
       "get panic attacks            0.30897\n",
       "get panic                    0.30897\n",
       "get                          0.30897\n",
       "panic                        0.30897\n",
       "...                              ...\n",
       "for                          0.00000\n",
       "felt lonely during           0.00000\n",
       "felt lonely                  0.00000\n",
       "felt frustration during      0.00000\n",
       "yes am able                  0.00000\n",
       "\n",
       "[405 rows x 1 columns]"
      ]
     },
     "execution_count": 57,
     "metadata": {},
     "output_type": "execute_result"
    }
   ],
   "source": [
    "df1=pd.DataFrame(x1[0].T.todense(),index=tfidf.get_feature_names_out(),columns=[\"TfIdf value\"] )\n",
    "df1=df1.sort_values('TfIdf value',ascending=False)\n",
    "df1"
   ]
  },
  {
   "cell_type": "code",
   "execution_count": 58,
   "id": "777d2269-2b4d-4c1d-b32f-9ad7b9cb05be",
   "metadata": {},
   "outputs": [
    {
     "data": {
      "text/html": [
       "<div>\n",
       "<style scoped>\n",
       "    .dataframe tbody tr th:only-of-type {\n",
       "        vertical-align: middle;\n",
       "    }\n",
       "\n",
       "    .dataframe tbody tr th {\n",
       "        vertical-align: top;\n",
       "    }\n",
       "\n",
       "    .dataframe thead th {\n",
       "        text-align: right;\n",
       "    }\n",
       "</style>\n",
       "<table border=\"1\" class=\"dataframe\">\n",
       "  <thead>\n",
       "    <tr style=\"text-align: right;\">\n",
       "      <th></th>\n",
       "      <th>TfIdf value</th>\n",
       "    </tr>\n",
       "  </thead>\n",
       "  <tbody>\n",
       "    <tr>\n",
       "      <th>panic attacks</th>\n",
       "      <td>0.308970</td>\n",
       "    </tr>\n",
       "    <tr>\n",
       "      <th>get panic attacks</th>\n",
       "      <td>0.308970</td>\n",
       "    </tr>\n",
       "    <tr>\n",
       "      <th>get panic</th>\n",
       "      <td>0.308970</td>\n",
       "    </tr>\n",
       "    <tr>\n",
       "      <th>get</th>\n",
       "      <td>0.308970</td>\n",
       "    </tr>\n",
       "    <tr>\n",
       "      <th>panic</th>\n",
       "      <td>0.308970</td>\n",
       "    </tr>\n",
       "    <tr>\n",
       "      <th>don get</th>\n",
       "      <td>0.308970</td>\n",
       "    </tr>\n",
       "    <tr>\n",
       "      <th>attacks</th>\n",
       "      <td>0.308970</td>\n",
       "    </tr>\n",
       "    <tr>\n",
       "      <th>don get panic</th>\n",
       "      <td>0.308970</td>\n",
       "    </tr>\n",
       "    <tr>\n",
       "      <th>no don get</th>\n",
       "      <td>0.308970</td>\n",
       "    </tr>\n",
       "    <tr>\n",
       "      <th>no don</th>\n",
       "      <td>0.268289</td>\n",
       "    </tr>\n",
       "    <tr>\n",
       "      <th>don</th>\n",
       "      <td>0.217036</td>\n",
       "    </tr>\n",
       "    <tr>\n",
       "      <th>no</th>\n",
       "      <td>0.147490</td>\n",
       "    </tr>\n",
       "    <tr>\n",
       "      <th>pandemic</th>\n",
       "      <td>0.000000</td>\n",
       "    </tr>\n",
       "    <tr>\n",
       "      <th>others as love</th>\n",
       "      <td>0.000000</td>\n",
       "    </tr>\n",
       "    <tr>\n",
       "      <th>others</th>\n",
       "      <td>0.000000</td>\n",
       "    </tr>\n",
       "    <tr>\n",
       "      <th>pandemic as</th>\n",
       "      <td>0.000000</td>\n",
       "    </tr>\n",
       "    <tr>\n",
       "      <th>pandemic as am</th>\n",
       "      <td>0.000000</td>\n",
       "    </tr>\n",
       "    <tr>\n",
       "      <th>others as</th>\n",
       "      <td>0.000000</td>\n",
       "    </tr>\n",
       "    <tr>\n",
       "      <th>able</th>\n",
       "      <td>0.000000</td>\n",
       "    </tr>\n",
       "    <tr>\n",
       "      <th>or nervous</th>\n",
       "      <td>0.000000</td>\n",
       "    </tr>\n",
       "  </tbody>\n",
       "</table>\n",
       "</div>"
      ],
      "text/plain": [
       "                   TfIdf value\n",
       "panic attacks         0.308970\n",
       "get panic attacks     0.308970\n",
       "get panic             0.308970\n",
       "get                   0.308970\n",
       "panic                 0.308970\n",
       "don get               0.308970\n",
       "attacks               0.308970\n",
       "don get panic         0.308970\n",
       "no don get            0.308970\n",
       "no don                0.268289\n",
       "don                   0.217036\n",
       "no                    0.147490\n",
       "pandemic              0.000000\n",
       "others as love        0.000000\n",
       "others                0.000000\n",
       "pandemic as           0.000000\n",
       "pandemic as am        0.000000\n",
       "others as             0.000000\n",
       "able                  0.000000\n",
       "or nervous            0.000000"
      ]
     },
     "execution_count": 58,
     "metadata": {},
     "output_type": "execute_result"
    }
   ],
   "source": [
    "df1.head(20)"
   ]
  },
  {
   "cell_type": "code",
   "execution_count": 59,
   "id": "681b9d7b-b80c-4052-aecb-5962b677cdd5",
   "metadata": {},
   "outputs": [
    {
     "name": "stdout",
     "output_type": "stream",
     "text": [
      "Requirement already satisfied: wordcloud in c:\\users\\dell\\appdata\\local\\programs\\python\\python310\\lib\\site-packages (1.9.3)\n",
      "Requirement already satisfied: numpy>=1.6.1 in c:\\users\\dell\\appdata\\local\\programs\\python\\python310\\lib\\site-packages (from wordcloud) (1.25.1)\n",
      "Requirement already satisfied: pillow in c:\\users\\dell\\appdata\\local\\programs\\python\\python310\\lib\\site-packages (from wordcloud) (10.0.0)\n",
      "Requirement already satisfied: matplotlib in c:\\users\\dell\\appdata\\local\\programs\\python\\python310\\lib\\site-packages (from wordcloud) (3.7.2)\n",
      "Requirement already satisfied: python-dateutil>=2.7 in c:\\users\\dell\\appdata\\local\\programs\\python\\python310\\lib\\site-packages (from matplotlib->wordcloud) (2.8.2)\n",
      "Requirement already satisfied: packaging>=20.0 in c:\\users\\dell\\appdata\\local\\programs\\python\\python310\\lib\\site-packages (from matplotlib->wordcloud) (23.1)\n",
      "Requirement already satisfied: kiwisolver>=1.0.1 in c:\\users\\dell\\appdata\\local\\programs\\python\\python310\\lib\\site-packages (from matplotlib->wordcloud) (1.4.4)\n",
      "Requirement already satisfied: pyparsing<3.1,>=2.3.1 in c:\\users\\dell\\appdata\\local\\programs\\python\\python310\\lib\\site-packages (from matplotlib->wordcloud) (3.0.9)\n",
      "Requirement already satisfied: fonttools>=4.22.0 in c:\\users\\dell\\appdata\\local\\programs\\python\\python310\\lib\\site-packages (from matplotlib->wordcloud) (4.41.1)\n",
      "Requirement already satisfied: contourpy>=1.0.1 in c:\\users\\dell\\appdata\\local\\programs\\python\\python310\\lib\\site-packages (from matplotlib->wordcloud) (1.1.0)\n",
      "Requirement already satisfied: cycler>=0.10 in c:\\users\\dell\\appdata\\local\\programs\\python\\python310\\lib\\site-packages (from matplotlib->wordcloud) (0.11.0)\n",
      "Requirement already satisfied: six>=1.5 in c:\\users\\dell\\appdata\\local\\programs\\python\\python310\\lib\\site-packages (from python-dateutil>=2.7->matplotlib->wordcloud) (1.16.0)\n"
     ]
    },
    {
     "name": "stderr",
     "output_type": "stream",
     "text": [
      "WARNING: You are using pip version 21.2.3; however, version 24.0 is available.\n",
      "You should consider upgrading via the 'C:\\Users\\DELL\\AppData\\Local\\Programs\\Python\\Python310\\python.exe -m pip install --upgrade pip' command.\n"
     ]
    }
   ],
   "source": [
    "!pip install wordcloud"
   ]
  },
  {
   "cell_type": "code",
   "execution_count": 60,
   "id": "d731afd4-34c9-449a-9f87-d643cac6f556",
   "metadata": {},
   "outputs": [],
   "source": [
    "from wordcloud import WordCloud\n",
    "import matplotlib.pyplot as plt"
   ]
  },
  {
   "cell_type": "code",
   "execution_count": 61,
   "id": "c66e3c37-ba4e-474f-855e-7a2107c04605",
   "metadata": {},
   "outputs": [
    {
     "data": {
      "image/png": "[encoded data removed]",
      "text/plain": [
       "<Figure size 640x480 with 1 Axes>"
      ]
     },
     "metadata": {},
     "output_type": "display_data"
    }
   ],
   "source": [
    "wordcloud = WordCloud().generate(str(responses1))\n",
    "plt.imshow(wordcloud, interpolation = 'bilinear')\n",
    "plt.axis('off')\n",
    "plt.show()"
   ]
  },
  {
   "cell_type": "code",
   "execution_count": null,
   "id": "10b42e2d-8922-47fc-9d2b-4c8133f27888",
   "metadata": {},
   "outputs": [],
   "source": [
    "#sentiment analysis"
   ]
  },
  {
   "cell_type": "code",
   "execution_count": 62,
   "id": "33764891-6a4d-4388-aec3-6fea12fd8544",
   "metadata": {},
   "outputs": [],
   "source": [
    "def find_largest(neg, neu, pos):\n",
    "    if neg >= neu and neg >= pos:\n",
    "        return {'negative' : neg}\n",
    "    elif neu >= neg and neu >= pos:\n",
    "        return {'neutral' : neu}\n",
    "    else:\n",
    "        return {'positive' : pos}"
   ]
  },
  {
   "cell_type": "code",
   "execution_count": 63,
   "id": "fccb538e-7813-40a0-83f9-59f6e1f1fe95",
   "metadata": {},
   "outputs": [],
   "source": [
    "#VADER"
   ]
  },
  {
   "cell_type": "code",
   "execution_count": 64,
   "id": "444222d9-8856-4c2b-b0b2-dcc495cf3c45",
   "metadata": {},
   "outputs": [
    {
     "name": "stderr",
     "output_type": "stream",
     "text": [
      "[nltk_data] Downloading package vader_lexicon to\n",
      "[nltk_data]     C:\\Users\\DELL\\AppData\\Roaming\\nltk_data...\n",
      "[nltk_data]   Package vader_lexicon is already up-to-date!\n"
     ]
    },
    {
     "data": {
      "text/plain": [
       "True"
      ]
     },
     "execution_count": 64,
     "metadata": {},
     "output_type": "execute_result"
    }
   ],
   "source": [
    "nltk.download('vader_lexicon')"
   ]
  },
  {
   "cell_type": "code",
   "execution_count": 65,
   "id": "7cc5d453-c1eb-4564-afef-1374bdbb5fb2",
   "metadata": {},
   "outputs": [],
   "source": [
    "from nltk.sentiment import SentimentIntensityAnalyzer\n",
    "from tqdm.notebook import tqdm\n",
    "\n",
    "model1 = SentimentIntensityAnalyzer()"
   ]
  },
  {
   "cell_type": "code",
   "execution_count": 66,
   "id": "d228b730-f44f-4701-a9ab-0c07e69e4386",
   "metadata": {},
   "outputs": [
    {
     "data": {
      "text/plain": [
       "{'neg': 0.144, 'neu': 0.591, 'pos': 0.265, 'compound': 0.9805}"
      ]
     },
     "execution_count": 66,
     "metadata": {},
     "output_type": "execute_result"
    }
   ],
   "source": [
    "responses_string = \" \".join(responses1)\n",
    "vader_scores = model1.polarity_scores(responses_string)\n",
    "vader_scores"
   ]
  },
  {
   "cell_type": "code",
   "execution_count": 67,
   "id": "ae29a92d-e4fd-4b43-9120-3c4de686b253",
   "metadata": {},
   "outputs": [
    {
     "data": {
      "text/plain": [
       "{'neutral': 0.591}"
      ]
     },
     "execution_count": 67,
     "metadata": {},
     "output_type": "execute_result"
    }
   ],
   "source": [
    "vader_largest = find_largest(vader_scores['neg'],vader_scores['neu'],vader_scores['pos'])\n",
    "vader_largest"
   ]
  },
  {
   "cell_type": "code",
   "execution_count": 68,
   "id": "5fcf046f-b915-41f5-b9a6-616b8867862d",
   "metadata": {},
   "outputs": [],
   "source": [
    "#RoBERTa"
   ]
  },
  {
   "cell_type": "code",
   "execution_count": 69,
   "id": "cb4f7fc0-6653-42a0-9b93-fa7265831911",
   "metadata": {},
   "outputs": [
    {
     "name": "stdout",
     "output_type": "stream",
     "text": [
      "Requirement already satisfied: scipy in c:\\users\\dell\\appdata\\local\\programs\\python\\python310\\lib\\site-packages (1.11.1)\n",
      "Requirement already satisfied: numpy<1.28.0,>=1.21.6 in c:\\users\\dell\\appdata\\local\\programs\\python\\python310\\lib\\site-packages (from scipy) (1.25.1)\n"
     ]
    },
    {
     "name": "stderr",
     "output_type": "stream",
     "text": [
      "WARNING: You are using pip version 21.2.3; however, version 24.0 is available.\n",
      "You should consider upgrading via the 'C:\\Users\\DELL\\AppData\\Local\\Programs\\Python\\Python310\\python.exe -m pip install --upgrade pip' command.\n"
     ]
    }
   ],
   "source": [
    "!pip install scipy"
   ]
  },
  {
   "cell_type": "code",
   "execution_count": 70,
   "id": "0f1f08eb-965f-48d5-ada8-ff605ab03943",
   "metadata": {},
   "outputs": [
    {
     "name": "stdout",
     "output_type": "stream",
     "text": [
      "Requirement already satisfied: transformers in c:\\users\\dell\\appdata\\local\\programs\\python\\python310\\lib\\site-packages (4.38.0)\n",
      "Requirement already satisfied: filelock in c:\\users\\dell\\appdata\\local\\programs\\python\\python310\\lib\\site-packages (from transformers) (3.13.1)\n",
      "Requirement already satisfied: requests in c:\\users\\dell\\appdata\\local\\programs\\python\\python310\\lib\\site-packages (from transformers) (2.31.0)\n",
      "Requirement already satisfied: packaging>=20.0 in c:\\users\\dell\\appdata\\local\\programs\\python\\python310\\lib\\site-packages (from transformers) (23.1)\n",
      "Requirement already satisfied: regex!=2019.12.17 in c:\\users\\dell\\appdata\\local\\programs\\python\\python310\\lib\\site-packages (from transformers) (2023.12.25)\n",
      "Requirement already satisfied: safetensors>=0.4.1 in c:\\users\\dell\\appdata\\local\\programs\\python\\python310\\lib\\site-packages (from transformers) (0.4.2)\n",
      "Requirement already satisfied: tokenizers<0.19,>=0.14 in c:\\users\\dell\\appdata\\local\\programs\\python\\python310\\lib\\site-packages (from transformers) (0.15.2)\n",
      "Requirement already satisfied: numpy>=1.17 in c:\\users\\dell\\appdata\\local\\programs\\python\\python310\\lib\\site-packages (from transformers) (1.25.1)\n",
      "Requirement already satisfied: tqdm>=4.27 in c:\\users\\dell\\appdata\\local\\programs\\python\\python310\\lib\\site-packages (from transformers) (4.66.2)\n",
      "Requirement already satisfied: pyyaml>=5.1 in c:\\users\\dell\\appdata\\local\\programs\\python\\python310\\lib\\site-packages (from transformers) (6.0.1)\n",
      "Requirement already satisfied: huggingface-hub<1.0,>=0.19.3 in c:\\users\\dell\\appdata\\local\\programs\\python\\python310\\lib\\site-packages (from transformers) (0.20.3)\n",
      "Requirement already satisfied: fsspec>=2023.5.0 in c:\\users\\dell\\appdata\\local\\programs\\python\\python310\\lib\\site-packages (from huggingface-hub<1.0,>=0.19.3->transformers) (2024.2.0)\n",
      "Requirement already satisfied: typing-extensions>=3.7.4.3 in c:\\users\\dell\\appdata\\local\\programs\\python\\python310\\lib\\site-packages (from huggingface-hub<1.0,>=0.19.3->transformers) (4.9.0)\n",
      "Requirement already satisfied: colorama in c:\\users\\dell\\appdata\\local\\programs\\python\\python310\\lib\\site-packages (from tqdm>=4.27->transformers) (0.4.6)\n",
      "Requirement already satisfied: urllib3<3,>=1.21.1 in c:\\users\\dell\\appdata\\local\\programs\\python\\python310\\lib\\site-packages (from requests->transformers) (2.0.4)\n",
      "Requirement already satisfied: idna<4,>=2.5 in c:\\users\\dell\\appdata\\local\\programs\\python\\python310\\lib\\site-packages (from requests->transformers) (3.4)\n",
      "Requirement already satisfied: certifi>=2017.4.17 in c:\\users\\dell\\appdata\\local\\programs\\python\\python310\\lib\\site-packages (from requests->transformers) (2023.7.22)\n",
      "Requirement already satisfied: charset-normalizer<4,>=2 in c:\\users\\dell\\appdata\\local\\programs\\python\\python310\\lib\\site-packages (from requests->transformers) (3.2.0)\n"
     ]
    },
    {
     "name": "stderr",
     "output_type": "stream",
     "text": [
      "WARNING: You are using pip version 21.2.3; however, version 24.0 is available.\n",
      "You should consider upgrading via the 'C:\\Users\\DELL\\AppData\\Local\\Programs\\Python\\Python310\\python.exe -m pip install --upgrade pip' command.\n"
     ]
    }
   ],
   "source": [
    "!pip install transformers"
   ]
  },
  {
   "cell_type": "code",
   "execution_count": 71,
   "id": "e4c3ea5b-b60b-4df1-9f5f-25c6c67f4520",
   "metadata": {},
   "outputs": [
    {
     "name": "stdout",
     "output_type": "stream",
     "text": [
      "Requirement already satisfied: torch in c:\\users\\dell\\appdata\\local\\programs\\python\\python310\\lib\\site-packages (2.2.0)\n",
      "Requirement already satisfied: filelock in c:\\users\\dell\\appdata\\local\\programs\\python\\python310\\lib\\site-packages (from torch) (3.13.1)\n",
      "Requirement already satisfied: typing-extensions>=4.8.0 in c:\\users\\dell\\appdata\\local\\programs\\python\\python310\\lib\\site-packages (from torch) (4.9.0)\n",
      "Requirement already satisfied: fsspec in c:\\users\\dell\\appdata\\local\\programs\\python\\python310\\lib\\site-packages (from torch) (2024.2.0)\n",
      "Requirement already satisfied: networkx in c:\\users\\dell\\appdata\\local\\programs\\python\\python310\\lib\\site-packages (from torch) (3.2.1)\n",
      "Requirement already satisfied: sympy in c:\\users\\dell\\appdata\\local\\programs\\python\\python310\\lib\\site-packages (from torch) (1.12)\n",
      "Requirement already satisfied: jinja2 in c:\\users\\dell\\appdata\\local\\programs\\python\\python310\\lib\\site-packages (from torch) (3.1.2)\n",
      "Requirement already satisfied: MarkupSafe>=2.0 in c:\\users\\dell\\appdata\\local\\programs\\python\\python310\\lib\\site-packages (from jinja2->torch) (2.1.3)\n",
      "Requirement already satisfied: mpmath>=0.19 in c:\\users\\dell\\appdata\\local\\programs\\python\\python310\\lib\\site-packages (from sympy->torch) (1.3.0)\n"
     ]
    },
    {
     "name": "stderr",
     "output_type": "stream",
     "text": [
      "WARNING: You are using pip version 21.2.3; however, version 24.0 is available.\n",
      "You should consider upgrading via the 'C:\\Users\\DELL\\AppData\\Local\\Programs\\Python\\Python310\\python.exe -m pip install --upgrade pip' command.\n"
     ]
    }
   ],
   "source": [
    "!pip install torch"
   ]
  },
  {
   "cell_type": "code",
   "execution_count": 72,
   "id": "0630c8a6-1258-480e-9506-57e18fb27a97",
   "metadata": {},
   "outputs": [],
   "source": [
    "#!pip install torch==1.10.0+cu111 torchvision==0.11.1+cu111 torchaudio==0.10.0+cu111 -f https://download.pytorch.org/whl/torch_stable.html\n"
   ]
  },
  {
   "cell_type": "code",
   "execution_count": 73,
   "id": "94e446be-111f-46c8-a453-bc869afefc8a",
   "metadata": {},
   "outputs": [],
   "source": [
    "from transformers import AutoTokenizer\n",
    "from transformers import AutoModelForSequenceClassification\n",
    "from scipy.special import softmax"
   ]
  },
  {
   "cell_type": "code",
   "execution_count": 74,
   "id": "d35b92f0-f05a-4a95-82f5-a6a49a28c1c2",
   "metadata": {},
   "outputs": [],
   "source": [
    "Model = f\"cardiffnlp/twitter-roberta-base-sentiment\"\n",
    "tokenizer = AutoTokenizer.from_pretrained(Model)\n",
    "model = AutoModelForSequenceClassification.from_pretrained(Model)"
   ]
  },
  {
   "cell_type": "code",
   "execution_count": 75,
   "id": "5707d7c8-c662-44e6-8174-be515b8921b4",
   "metadata": {},
   "outputs": [
    {
     "data": {
      "text/plain": [
       "{'input_ids': tensor([[    0,  2362,    38,   218,    75,   120,  9810,  1912,    38,  7154,\n",
       "           619, 13473,    50,  7464,   117,    38,  2220,    75,  1299, 20100,\n",
       "           148,   167,   498,    25,    38,    21,    19,   127,   284,   117,\n",
       "            38,   399,    75,  2217,  1268,   528,     7,    24,   117,  4146,\n",
       "             9,   127,  1081,   708,    58,  1714,   528,     7,     5, 23387,\n",
       "         14414,    25,    38,   524,    10,   621,    54,   630,    75,    33,\n",
       "           203,   708,   117,    38,   630,    75,   619, 24418,    59,   127,\n",
       "           499,    38,   460,   206,  1313,    38,  2333,   619,   205,    59,\n",
       "          2185,  4420,    38,   524,   441,     7,  2254,  1482,  1033,   190,\n",
       "            25,   137,    24,    74,    28,   357,     7,   224,    14,    38,\n",
       "          2254,   209,   383,    55,   122,   117,    38,  2333,   218,    75,\n",
       "           676,  6711, 14389,   393,    38,   460,   860,     7, 10731,    62,\n",
       "            19,   127,  1230,  1272,  2811,    24,    25,    10,  1539,   117,\n",
       "            38,   218,    75,   619, 10072,  3953,    77, 23140,    19,   643,\n",
       "            25,    38,   657,     7, 10754,    19,    82,    38,  5636,   218,\n",
       "            75,   216,  1268,    54,   323,  8404,   523,  5467,   117,    38,\n",
       "          2220,    75,  1299,  8413,   148, 23076,    38, 16534,  3776,   127,\n",
       "          6875,    19,   284,    38,   393,   685,   773,    11,   127,  3218,\n",
       "          1712,     5,  4050,    58,   804,    38,  2922,   106,  4595,     8,\n",
       "            67,   304,   127,   481,    86,    13,   617,  3218,   117,  4312,\n",
       "            32,  6453,  2333, 13656,   162,     2]]), 'attention_mask': tensor([[1, 1, 1, 1, 1, 1, 1, 1, 1, 1, 1, 1, 1, 1, 1, 1, 1, 1, 1, 1, 1, 1, 1, 1,\n",
       "         1, 1, 1, 1, 1, 1, 1, 1, 1, 1, 1, 1, 1, 1, 1, 1, 1, 1, 1, 1, 1, 1, 1, 1,\n",
       "         1, 1, 1, 1, 1, 1, 1, 1, 1, 1, 1, 1, 1, 1, 1, 1, 1, 1, 1, 1, 1, 1, 1, 1,\n",
       "         1, 1, 1, 1, 1, 1, 1, 1, 1, 1, 1, 1, 1, 1, 1, 1, 1, 1, 1, 1, 1, 1, 1, 1,\n",
       "         1, 1, 1, 1, 1, 1, 1, 1, 1, 1, 1, 1, 1, 1, 1, 1, 1, 1, 1, 1, 1, 1, 1, 1,\n",
       "         1, 1, 1, 1, 1, 1, 1, 1, 1, 1, 1, 1, 1, 1, 1, 1, 1, 1, 1, 1, 1, 1, 1, 1,\n",
       "         1, 1, 1, 1, 1, 1, 1, 1, 1, 1, 1, 1, 1, 1, 1, 1, 1, 1, 1, 1, 1, 1, 1, 1,\n",
       "         1, 1, 1, 1, 1, 1, 1, 1, 1, 1, 1, 1, 1, 1, 1, 1, 1, 1, 1, 1, 1, 1, 1, 1,\n",
       "         1, 1, 1, 1, 1, 1, 1, 1, 1, 1, 1, 1, 1, 1]])}"
      ]
     },
     "execution_count": 75,
     "metadata": {},
     "output_type": "execute_result"
    }
   ],
   "source": [
    "text_data = tokenizer(responses_string,return_tensors='pt')\n",
    "text_data"
   ]
  },
  {
   "cell_type": "code",
   "execution_count": 76,
   "id": "27e3df1c-50f7-488c-a510-454f12776b25",
   "metadata": {},
   "outputs": [
    {
     "name": "stdout",
     "output_type": "stream",
     "text": [
      "tensor([[    0,  2362,    38,   218,    75,   120,  9810,  1912,    38,  7154,\n",
      "           619, 13473,    50,  7464,   117,    38,  2220,    75,  1299, 20100,\n",
      "           148,   167,   498,    25,    38,    21,    19,   127,   284,   117,\n",
      "            38,   399,    75,  2217,  1268,   528,     7,    24,   117,  4146,\n",
      "             9,   127,  1081,   708,    58,  1714,   528,     7,     5, 23387,\n",
      "         14414,    25,    38,   524,    10,   621,    54,   630,    75,    33,\n",
      "           203,   708,   117,    38,   630,    75,   619, 24418,    59,   127,\n",
      "           499,    38,   460,   206,  1313,    38,  2333,   619,   205,    59,\n",
      "          2185,  4420,    38,   524,   441,     7,  2254,  1482,  1033,   190,\n",
      "            25,   137,    24,    74,    28,   357,     7,   224,    14,    38,\n",
      "          2254,   209,   383,    55,   122,   117,    38,  2333,   218,    75,\n",
      "           676,  6711, 14389,   393,    38,   460,   860,     7, 10731,    62,\n",
      "            19,   127,  1230,  1272,  2811,    24,    25,    10,  1539,   117,\n",
      "            38,   218,    75,   619, 10072,  3953,    77, 23140,    19,   643,\n",
      "            25,    38,   657,     7, 10754,    19,    82,    38,  5636,   218,\n",
      "            75,   216,  1268,    54,   323,  8404,   523,  5467,   117,    38,\n",
      "          2220,    75,  1299,  8413,   148, 23076,    38, 16534,  3776,   127,\n",
      "          6875,    19,   284,    38,   393,   685,   773,    11,   127,  3218,\n",
      "          1712,     5,  4050,    58,   804,    38,  2922,   106,  4595,     8,\n",
      "            67,   304,   127,   481,    86,    13,   617,  3218,   117,  4312,\n",
      "            32,  6453,  2333, 13656,   162,     2]])\n"
     ]
    }
   ],
   "source": [
    "print(text_data['input_ids'])"
   ]
  },
  {
   "cell_type": "code",
   "execution_count": 77,
   "id": "e0da1ee4-38eb-4af1-841e-320536a28082",
   "metadata": {},
   "outputs": [
    {
     "name": "stdout",
     "output_type": "stream",
     "text": [
      "tensor([[1, 1, 1, 1, 1, 1, 1, 1, 1, 1, 1, 1, 1, 1, 1, 1, 1, 1, 1, 1, 1, 1, 1, 1,\n",
      "         1, 1, 1, 1, 1, 1, 1, 1, 1, 1, 1, 1, 1, 1, 1, 1, 1, 1, 1, 1, 1, 1, 1, 1,\n",
      "         1, 1, 1, 1, 1, 1, 1, 1, 1, 1, 1, 1, 1, 1, 1, 1, 1, 1, 1, 1, 1, 1, 1, 1,\n",
      "         1, 1, 1, 1, 1, 1, 1, 1, 1, 1, 1, 1, 1, 1, 1, 1, 1, 1, 1, 1, 1, 1, 1, 1,\n",
      "         1, 1, 1, 1, 1, 1, 1, 1, 1, 1, 1, 1, 1, 1, 1, 1, 1, 1, 1, 1, 1, 1, 1, 1,\n",
      "         1, 1, 1, 1, 1, 1, 1, 1, 1, 1, 1, 1, 1, 1, 1, 1, 1, 1, 1, 1, 1, 1, 1, 1,\n",
      "         1, 1, 1, 1, 1, 1, 1, 1, 1, 1, 1, 1, 1, 1, 1, 1, 1, 1, 1, 1, 1, 1, 1, 1,\n",
      "         1, 1, 1, 1, 1, 1, 1, 1, 1, 1, 1, 1, 1, 1, 1, 1, 1, 1, 1, 1, 1, 1, 1, 1,\n",
      "         1, 1, 1, 1, 1, 1, 1, 1, 1, 1, 1, 1, 1, 1]])\n"
     ]
    }
   ],
   "source": [
    "print(text_data['attention_mask'])"
   ]
  },
  {
   "cell_type": "code",
   "execution_count": 78,
   "id": "ea2cf777-2a42-416b-88e3-fbee1efd1fed",
   "metadata": {},
   "outputs": [
    {
     "data": {
      "text/plain": [
       "SequenceClassifierOutput(loss=None, logits=tensor([[-1.3603,  0.1085,  1.3116]], grad_fn=<AddmmBackward0>), hidden_states=None, attentions=None)"
      ]
     },
     "execution_count": 78,
     "metadata": {},
     "output_type": "execute_result"
    }
   ],
   "source": [
    "result = model(**text_data)\n",
    "result"
   ]
  },
  {
   "cell_type": "code",
   "execution_count": 79,
   "id": "1cffd199-a38c-4920-bac7-e6e395a3e95d",
   "metadata": {},
   "outputs": [
    {
     "data": {
      "text/plain": [
       "tensor([[-1.3603,  0.1085,  1.3116]], grad_fn=<AddmmBackward0>)"
      ]
     },
     "execution_count": 79,
     "metadata": {},
     "output_type": "execute_result"
    }
   ],
   "source": [
    "result[0]"
   ]
  },
  {
   "cell_type": "code",
   "execution_count": 80,
   "id": "88da6bba-de5e-4ba7-abfe-9e9495e59267",
   "metadata": {},
   "outputs": [
    {
     "data": {
      "text/plain": [
       "array([0.05047794, 0.21927413, 0.730248  ], dtype=float32)"
      ]
     },
     "execution_count": 80,
     "metadata": {},
     "output_type": "execute_result"
    }
   ],
   "source": [
    "score = result[0][0].detach().numpy()\n",
    "score = softmax(score)\n",
    "score"
   ]
  },
  {
   "cell_type": "code",
   "execution_count": 81,
   "id": "b50f3f01-4d44-4082-a474-d32945cc3b6e",
   "metadata": {},
   "outputs": [
    {
     "name": "stdout",
     "output_type": "stream",
     "text": [
      "{'neg': 0.050477937, 'neu': 0.21927413, 'pos': 0.730248}\n"
     ]
    }
   ],
   "source": [
    "label = {\n",
    "    'neg' : score[0],\n",
    "    'neu' : score[1],\n",
    "    'pos' : score[2]\n",
    "}\n",
    "\n",
    "print(label)"
   ]
  },
  {
   "cell_type": "code",
   "execution_count": 82,
   "id": "e857e03a-5f67-4e8f-8c2c-1146fea9de93",
   "metadata": {},
   "outputs": [
    {
     "data": {
      "text/plain": [
       "{'positive': 0.730248}"
      ]
     },
     "execution_count": 82,
     "metadata": {},
     "output_type": "execute_result"
    }
   ],
   "source": [
    "roberta_largest = find_largest(label['neg'],label['neu'],label['pos'])\n",
    "roberta_largest"
   ]
  },
  {
   "cell_type": "code",
   "execution_count": 83,
   "id": "71ce48dd-6d29-4cc5-a9b5-63eb0469d5a3",
   "metadata": {},
   "outputs": [
    {
     "name": "stdout",
     "output_type": "stream",
     "text": [
      "Total scores : \n",
      " vader = {'neutral': 0.591}\n",
      " roberta = {'positive': 0.730248} \n",
      " ['neutral', 'positive']\n"
     ]
    }
   ],
   "source": [
    "total = []\n",
    "total.append(list(vader_largest)[0])\n",
    "total.append(list(roberta_largest)[0])\n",
    "\n",
    "print(\"Total scores : \\n vader = {0}\\n roberta = {1} \\n {2}\".format(vader_largest,roberta_largest,total))"
   ]
  },
  {
   "cell_type": "code",
   "execution_count": 84,
   "id": "50dbac8f-3d52-46be-b255-544e384d894c",
   "metadata": {},
   "outputs": [],
   "source": [
    "neutral1 = ['neutral','neutral']\n",
    "negative1 = [['neutral','negative'],['negative','neutral'],['negative','negative']]\n",
    "positive1 = [['positive','positive'],['neutral','positive'],['positive','neutral']]"
   ]
  },
  {
   "cell_type": "code",
   "execution_count": 85,
   "id": "8e6eb953-27ed-45e4-a8ef-63c8e2a2370a",
   "metadata": {},
   "outputs": [
    {
     "name": "stdout",
     "output_type": "stream",
     "text": [
      "Positive\n"
     ]
    }
   ],
   "source": [
    "if total in neutral1:\n",
    "  print(\"Neutral\")\n",
    "\n",
    "elif total in negative1:\n",
    "  print(\"Negative\")\n",
    "\n",
    "else:\n",
    "  print(\"Positive\")"
   ]
  },
  {
   "cell_type": "code",
   "execution_count": 86,
   "id": "edb14b2e-0d24-4bf2-91b1-ed33db5b3b10",
   "metadata": {},
   "outputs": [
    {
     "name": "stdout",
     "output_type": "stream",
     "text": [
      "2\n",
      "neutral\n"
     ]
    }
   ],
   "source": [
    "values = {\n",
    "    'negative' : 1 ,\n",
    "    'neutral' : 2 ,\n",
    "    'positive' : 3\n",
    "          }\n",
    "\n",
    "\n",
    "\n",
    "avg_values = values[total[0]]+values[total[1]]\n",
    "ans = round(avg_values/2) \n",
    "print(ans)\n",
    "\n",
    "print(list(values)[ans-1]) \n"
   ]
  },
  {
   "cell_type": "code",
   "execution_count": 87,
   "id": "c54c904e-c8d9-4b57-a18c-fbaa270b71e3",
   "metadata": {},
   "outputs": [
    {
     "name": "stdout",
     "output_type": "stream",
     "text": [
      "Based on your responses, it seems like you are not currently suffering from a mental illness. However, if you ever feel overwhelmed, don't hesitate to reach out for support.\n"
     ]
    }
   ],
   "source": [
    "if total == negative1:\n",
    "        print(\"Based on your responses, it seems like you might be suffering from a mental illness. We recommend seeking professional help.\")\n",
    "else:\n",
    "        print(\"Based on your responses, it seems like you are not currently suffering from a mental illness. However, if you ever feel overwhelmed, don't hesitate to reach out for support.\")\n"
   ]
  },
  {
   "cell_type": "code",
   "execution_count": null,
   "id": "b1a4db70-6190-4f29-a1d8-646649e364ca",
   "metadata": {},
   "outputs": [],
   "source": []
  }
 ],
 "metadata": {
  "kernelspec": {
   "display_name": "Python 3 (ipykernel)",
   "language": "python",
   "name": "python3"
  },
  "language_info": {
   "codemirror_mode": {
    "name": "ipython",
    "version": 3
   },
   "file_extension": ".py",
   "mimetype": "text/x-python",
   "name": "python",
   "nbconvert_exporter": "python",
   "pygments_lexer": "ipython3",
   "version": "3.10.0"
  }
 },
 "nbformat": 4,
 "nbformat_minor": 5
}
