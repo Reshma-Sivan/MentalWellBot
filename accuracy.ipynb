{
 "cells": [
  {
   "cell_type": "code",
   "execution_count": null,
   "id": "b4de255d-6014-4d46-a7c4-184babad831a",
   "metadata": {},
   "outputs": [],
   "source": [
    "!pip install pyttsx3\n",
    "!pip install SpeechRecognition"
   ]
  },
  {
   "cell_type": "code",
   "execution_count": null,
   "id": "a2076dfc-3dfd-4e68-8ecb-6bd22756ad17",
   "metadata": {},
   "outputs": [],
   "source": [
    "!pip install pyaudio"
   ]
  },
  {
   "cell_type": "code",
   "execution_count": null,
   "id": "b68536d8-e000-4612-9068-eb21cc5c25bf",
   "metadata": {},
   "outputs": [],
   "source": [
    "!pip install nltk"
   ]
  },
  {
   "cell_type": "code",
   "execution_count": null,
   "id": "4d93bcd4-8d6b-4244-970e-2e2c6adf07b3",
   "metadata": {},
   "outputs": [],
   "source": [
    "responses = []"
   ]
  },
  {
   "cell_type": "code",
   "execution_count": null,
   "id": "e4bdc79e-3dec-4fe6-b5ef-ad480cdc2e0f",
   "metadata": {},
   "outputs": [],
   "source": [
    "import speech_recognition as sr\n",
    "import pyttsx3\n",
    "\n",
    "#initialize speech recognition engine and text to speech engine\n",
    "r=sr.Recognizer()\n",
    "engine=pyttsx3.init()\n",
    "\n",
    "#set the properties for the text to spech engine\n",
    "voices=engine.getProperty('voices')\n",
    "engine.setProperty('voice',voices[0].id)\n",
    "engine.setProperty('rate',150)\n",
    "\n",
    "def speech_to_text():\n",
    "    recognizer = sr.Recognizer()\n",
    "    with sr.Microphone() as source:\n",
    "        print(\"Speak now:\")\n",
    "        audio = recognizer.listen(source)\n",
    "\n",
    "    try:\n",
    "        text = recognizer.recognize_google(audio)\n",
    "        return text\n",
    "    except sr.UnknownValueError:\n",
    "        print(\"Sorry, I couldn't understand what you said.\")\n",
    "        return \"\"\n",
    "    except sr.RequestError as e:\n",
    "        print(\"Could not request results from Google Speech Recognition service; {0}\".format(e))\n",
    "        return \"\"\n",
    "\n",
    "def speak(text):\n",
    "    engine.say(text)\n",
    "    engine.runAndWait()\n",
    "speak(\"Hello,I'm your personnel A I.\")\n",
    "questions = [     \n",
    "                  \"How often have you felt nervous or anxious?\",\n",
    "                  \"Have you felt hopeless about your future?\",\n",
    "                  \"Have you experienced mood swings?\",\n",
    "                  \"Do you feel unable to cope up with daily problems?\",\n",
    "                  \"Do you feel mentally weak when interacting with others?\",\n",
    "                  \n",
    "]\n",
    "\n",
    "\n",
    "\n",
    "\n",
    "for question in questions:\n",
    "   print(question)\n",
    "   speak(question)\n",
    "   response = speech_to_text()\n",
    "   responses.append(response)\n",
    "   print(response)\n",
    "\n",
    "speak(\"Thank you for your responses. Here are your answers:\")\n",
    "for i in range(len(questions)):\n",
    "   print(f\"{questions[i]} {responses[i]}\")\n",
    "\n"
   ]
  },
  {
   "cell_type": "code",
   "execution_count": null,
   "id": "fe95c56c-f43a-464f-aa46-82801cd47dce",
   "metadata": {},
   "outputs": [],
   "source": [
    "responses"
   ]
  },
  {
   "cell_type": "code",
   "execution_count": null,
   "id": "3bbd12f6-2104-4dea-810b-ca6e70dd2b29",
   "metadata": {},
   "outputs": [],
   "source": [
    "import nltk"
   ]
  },
  {
   "cell_type": "code",
   "execution_count": null,
   "id": "f6abde62-2bca-417e-992d-8c800948e4af",
   "metadata": {},
   "outputs": [],
   "source": [
    "from nltk.corpus import stopwords"
   ]
  },
  {
   "cell_type": "code",
   "execution_count": null,
   "id": "40f3768f-816a-4801-924a-f5adcb5dbe35",
   "metadata": {},
   "outputs": [],
   "source": [
    "nltk.download('stopwords')\n",
    "stopwords.words('english')"
   ]
  },
  {
   "cell_type": "code",
   "execution_count": null,
   "id": "a5b9b3ab-2bef-4545-b19e-3cf290a91acd",
   "metadata": {},
   "outputs": [],
   "source": [
    "responses1 = []\n",
    "stop_words = stopwords.words('english')\n",
    "for words in responses:\n",
    "  if words not in stop_words:\n",
    "   responses1.append(words)\n",
    "responses1"
   ]
  },
  {
   "cell_type": "code",
   "execution_count": null,
   "id": "6d55a1cb-0e9a-427d-82d1-e8c26f1799c7",
   "metadata": {},
   "outputs": [],
   "source": [
    "from sklearn.feature_extraction.text import TfidfVectorizer"
   ]
  },
  {
   "cell_type": "code",
   "execution_count": null,
   "id": "962b140e-995f-415f-96dc-a845207220cc",
   "metadata": {},
   "outputs": [],
   "source": [
    "tfidf=TfidfVectorizer(ngram_range=(1,3))"
   ]
  },
  {
   "cell_type": "code",
   "execution_count": null,
   "id": "661dc4a9-1d98-46bb-9017-e891cf6fbaed",
   "metadata": {},
   "outputs": [],
   "source": [
    "x1=tfidf.fit_transform(responses1)\n",
    "x1"
   ]
  },
  {
   "cell_type": "code",
   "execution_count": null,
   "id": "656203cc-bac5-4715-98d5-3fdef56b99e8",
   "metadata": {},
   "outputs": [],
   "source": [
    "import pandas as pd\n",
    "import numpy as np"
   ]
  },
  {
   "cell_type": "code",
   "execution_count": null,
   "id": "465f6115-ff63-4687-9c12-4d6363aaba76",
   "metadata": {},
   "outputs": [],
   "source": [
    "df1=pd.DataFrame(x1[0].T.todense(),index=tfidf.get_feature_names_out(),columns=[\"TfIdf value\"] )\n",
    "df1=df1.sort_values('TfIdf value',ascending=False)\n",
    "df1"
   ]
  },
  {
   "cell_type": "code",
   "execution_count": null,
   "id": "a5faa3c0-4a46-4b56-8166-2d3c57333696",
   "metadata": {},
   "outputs": [],
   "source": [
    "df1.head(20)"
   ]
  },
  {
   "cell_type": "code",
   "execution_count": null,
   "id": "56468aa5-7235-4234-82a2-0acb21692ba5",
   "metadata": {},
   "outputs": [],
   "source": [
    "!pip install wordcloud"
   ]
  },
  {
   "cell_type": "code",
   "execution_count": null,
   "id": "538eeceb-ce16-499c-83e1-1155b254dc0c",
   "metadata": {},
   "outputs": [],
   "source": [
    "from wordcloud import WordCloud\n",
    "import matplotlib.pyplot as plt"
   ]
  },
  {
   "cell_type": "code",
   "execution_count": null,
   "id": "8c89ea5d-75df-4aa7-878d-5d849c77fad8",
   "metadata": {},
   "outputs": [],
   "source": [
    "wordcloud = WordCloud().generate(str(responses1))\n",
    "plt.imshow(wordcloud, interpolation = 'bilinear')\n",
    "plt.axis('off')\n",
    "plt.show()"
   ]
  },
  {
   "cell_type": "code",
   "execution_count": null,
   "id": "c692a7b2-6886-45ae-bc88-4e5453ab3c28",
   "metadata": {},
   "outputs": [],
   "source": [
    "def find_largest(neg, neu, pos):\n",
    "    if neg >= neu and neg >= pos:\n",
    "        return {'negative' : neg}\n",
    "    elif neu >= neg and neu >= pos:\n",
    "        return {'neutral' : neu}\n",
    "    else:\n",
    "        return {'positive' : pos}"
   ]
  },
  {
   "cell_type": "code",
   "execution_count": null,
   "id": "0788d8a3-a161-41bd-986b-88951caa7806",
   "metadata": {},
   "outputs": [],
   "source": [
    "nltk.download('vader_lexicon')"
   ]
  },
  {
   "cell_type": "code",
   "execution_count": null,
   "id": "c0784881-326c-4434-b9cf-1cb475381008",
   "metadata": {},
   "outputs": [],
   "source": [
    "from nltk.sentiment import SentimentIntensityAnalyzer\n",
    "from tqdm.notebook import tqdm\n",
    "\n",
    "model1 = SentimentIntensityAnalyzer()"
   ]
  },
  {
   "cell_type": "code",
   "execution_count": null,
   "id": "edaa325d-08fd-46a7-9eeb-6ca24da8ea3d",
   "metadata": {},
   "outputs": [],
   "source": [
    "responses_string = \" \".join(responses1)\n",
    "vader_scores = model1.polarity_scores(responses_string)\n",
    "vader_scores"
   ]
  },
  {
   "cell_type": "code",
   "execution_count": null,
   "id": "d954fdce-2316-40e1-af08-1ccc560b3c82",
   "metadata": {},
   "outputs": [],
   "source": [
    "vader_largest = find_largest(vader_scores['neg'],vader_scores['neu'],vader_scores['pos'])\n",
    "vader_largest"
   ]
  },
  {
   "cell_type": "code",
   "execution_count": null,
   "id": "af6b0060-2f55-4bee-a802-1e8949568aad",
   "metadata": {},
   "outputs": [],
   "source": [
    "!pip install scipy"
   ]
  },
  {
   "cell_type": "code",
   "execution_count": null,
   "id": "bef961a4-227f-44f1-9f07-9c334be1fe9e",
   "metadata": {},
   "outputs": [],
   "source": [
    "!pip install transformers"
   ]
  },
  {
   "cell_type": "code",
   "execution_count": null,
   "id": "7eba2eca-a9d8-4b2d-97a7-9f3e3b086656",
   "metadata": {},
   "outputs": [],
   "source": [
    "!pip install torch"
   ]
  },
  {
   "cell_type": "code",
   "execution_count": null,
   "id": "a578cac3-125e-47b9-a24f-c7ac1bcc56fd",
   "metadata": {},
   "outputs": [],
   "source": [
    "from transformers import AutoTokenizer\n",
    "from transformers import AutoModelForSequenceClassification\n",
    "from scipy.special import softmax"
   ]
  },
  {
   "cell_type": "code",
   "execution_count": null,
   "id": "a7f63439-c3ed-4d3a-aabc-897b84691cc2",
   "metadata": {},
   "outputs": [],
   "source": [
    "Model = f\"cardiffnlp/twitter-roberta-base-sentiment\"\n",
    "tokenizer = AutoTokenizer.from_pretrained(Model)\n",
    "model = AutoModelForSequenceClassification.from_pretrained(Model)"
   ]
  },
  {
   "cell_type": "code",
   "execution_count": null,
   "id": "71672fe6-976b-4289-a663-fa8270c89190",
   "metadata": {},
   "outputs": [],
   "source": [
    "text_data = tokenizer(responses_string,return_tensors='pt')\n",
    "text_data"
   ]
  },
  {
   "cell_type": "code",
   "execution_count": null,
   "id": "4bac709b-37e5-46cc-ba58-f49e75963c12",
   "metadata": {},
   "outputs": [],
   "source": [
    "result = model(**text_data)\n",
    "result"
   ]
  },
  {
   "cell_type": "code",
   "execution_count": null,
   "id": "07bac027-e39d-4f85-806a-55759cac9ca5",
   "metadata": {},
   "outputs": [],
   "source": [
    "result[0]"
   ]
  },
  {
   "cell_type": "code",
   "execution_count": null,
   "id": "d6f3cf4c-1c16-40fd-bc47-ed5f0feb1ffb",
   "metadata": {},
   "outputs": [],
   "source": [
    "score = result[0][0].detach().numpy()\n",
    "score = softmax(score)\n",
    "score"
   ]
  },
  {
   "cell_type": "code",
   "execution_count": null,
   "id": "d1dff2ea-e42b-44ff-bc5f-f4c5f74a57ef",
   "metadata": {},
   "outputs": [],
   "source": [
    "label = {\n",
    "    'neg' : score[0],\n",
    "    'neu' : score[1],\n",
    "    'pos' : score[2]\n",
    "}\n",
    "\n",
    "print(label)"
   ]
  },
  {
   "cell_type": "code",
   "execution_count": null,
   "id": "47b54fac-a20c-437e-b785-09780c86d8ec",
   "metadata": {},
   "outputs": [],
   "source": [
    "roberta_largest = find_largest(label['neg'],label['neu'],label['pos'])\n",
    "roberta_largest"
   ]
  },
  {
   "cell_type": "code",
   "execution_count": null,
   "id": "132a5993-486f-4285-8d9a-a98b2c8a5f76",
   "metadata": {},
   "outputs": [],
   "source": [
    "total = []\n",
    "total.append(list(vader_largest)[0])\n",
    "total.append(list(roberta_largest)[0])\n",
    "\n",
    "print(\"Total scores : \\n vader = {0}\\n roberta = {1} \\n {2}\".format(vader_largest,roberta_largest,total))"
   ]
  },
  {
   "cell_type": "code",
   "execution_count": null,
   "id": "028e53f5-d55d-4546-9943-54b59af871df",
   "metadata": {},
   "outputs": [],
   "source": [
    "neutral1 = ['neutral','neutral']\n",
    "negative1 = [['neutral','negative'],['negative','neutral'],['negative','negative']]\n",
    "positive1 = [['positive','positive'],['neutral','positive'],['positive','neutral']]"
   ]
  },
  {
   "cell_type": "code",
   "execution_count": null,
   "id": "7321d1f1-f817-429c-a22f-7ba2d873162d",
   "metadata": {},
   "outputs": [],
   "source": [
    "if total in neutral1:\n",
    "  print(\"Neutral\")\n",
    "\n",
    "elif total in negative1:\n",
    "  print(\"Negative\")\n",
    "\n",
    "else:\n",
    "  print(\"Positive\")"
   ]
  },
  {
   "cell_type": "code",
   "execution_count": null,
   "id": "945c7c1a-987a-40b8-8092-8b0d77f1255b",
   "metadata": {},
   "outputs": [],
   "source": []
  }
 ],
 "metadata": {
  "kernelspec": {
   "display_name": "Python 3 (ipykernel)",
   "language": "python",
   "name": "python3"
  },
  "language_info": {
   "codemirror_mode": {
    "name": "ipython",
    "version": 3
   },
   "file_extension": ".py",
   "mimetype": "text/x-python",
   "name": "python",
   "nbconvert_exporter": "python",
   "pygments_lexer": "ipython3",
   "version": "3.10.0"
  }
 },
 "nbformat": 4,
 "nbformat_minor": 5
}

